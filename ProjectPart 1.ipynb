{
 "cells": [
  {
   "cell_type": "code",
   "execution_count": 1,
   "id": "3c7d3610-3808-453f-a4c4-b0830fa16960",
   "metadata": {},
   "outputs": [
    {
     "name": "stdout",
     "output_type": "stream",
     "text": [
      "<class 'pandas.core.frame.DataFrame'>\n",
      "RangeIndex: 74111 entries, 0 to 74110\n",
      "Data columns (total 29 columns):\n",
      " #   Column                  Non-Null Count  Dtype  \n",
      "---  ------                  --------------  -----  \n",
      " 0   id                      74111 non-null  int64  \n",
      " 1   log_price               74111 non-null  float64\n",
      " 2   property_type           74111 non-null  object \n",
      " 3   room_type               74111 non-null  object \n",
      " 4   amenities               74111 non-null  object \n",
      " 5   accommodates            74111 non-null  int64  \n",
      " 6   bathrooms               73911 non-null  float64\n",
      " 7   bed_type                74111 non-null  object \n",
      " 8   cancellation_policy     74111 non-null  object \n",
      " 9   cleaning_fee            74111 non-null  bool   \n",
      " 10  city                    74111 non-null  object \n",
      " 11  description             74105 non-null  object \n",
      " 12  first_review            58247 non-null  object \n",
      " 13  host_has_profile_pic    73923 non-null  object \n",
      " 14  host_identity_verified  73923 non-null  object \n",
      " 15  host_response_rate      55812 non-null  float64\n",
      " 16  host_since              73923 non-null  object \n",
      " 17  instant_bookable        74111 non-null  object \n",
      " 18  last_review             58284 non-null  object \n",
      " 19  latitude                74111 non-null  float64\n",
      " 20  longitude               74111 non-null  float64\n",
      " 21  name                    74101 non-null  object \n",
      " 22  neighbourhood           67239 non-null  object \n",
      " 23  number_of_reviews       74111 non-null  int64  \n",
      " 24  review_scores_rating    57389 non-null  float64\n",
      " 25  thumbnail_url           65895 non-null  object \n",
      " 26  zipcode                 73143 non-null  object \n",
      " 27  bedrooms                74020 non-null  float64\n",
      " 28  beds                    73980 non-null  float64\n",
      "dtypes: bool(1), float64(8), int64(3), object(17)\n",
      "memory usage: 15.9+ MB\n",
      "None\n",
      "                 id     log_price  accommodates     bathrooms  \\\n",
      "count  7.411100e+04  74111.000000  74111.000000  73911.000000   \n",
      "mean   1.126662e+07      4.782069      3.155146      1.235263   \n",
      "std    6.081735e+06      0.717394      2.153589      0.582044   \n",
      "min    3.440000e+02      0.000000      1.000000      0.000000   \n",
      "25%    6.261964e+06      4.317488      2.000000      1.000000   \n",
      "50%    1.225415e+07      4.709530      2.000000      1.000000   \n",
      "75%    1.640226e+07      5.220356      4.000000      1.000000   \n",
      "max    2.123090e+07      7.600402     16.000000      8.000000   \n",
      "\n",
      "       host_response_rate      latitude     longitude  number_of_reviews  \\\n",
      "count        55812.000000  74111.000000  74111.000000       74111.000000   \n",
      "mean             0.943520     38.445958    -92.397525          20.900568   \n",
      "std              0.163418      3.080167     21.705322          37.828641   \n",
      "min              0.000000     33.338905   -122.511500           0.000000   \n",
      "25%              1.000000     34.127908   -118.342374           1.000000   \n",
      "50%              1.000000     40.662138    -76.996965           6.000000   \n",
      "75%              1.000000     40.746096    -73.954660          23.000000   \n",
      "max              1.000000     42.390437    -70.985047         605.000000   \n",
      "\n",
      "       review_scores_rating      bedrooms          beds  \n",
      "count          57389.000000  74020.000000  73980.000000  \n",
      "mean              94.067365      1.265793      1.710868  \n",
      "std                7.836556      0.852143      1.254142  \n",
      "min               20.000000      0.000000      0.000000  \n",
      "25%               92.000000      1.000000      1.000000  \n",
      "50%               96.000000      1.000000      1.000000  \n",
      "75%              100.000000      1.000000      2.000000  \n",
      "max              100.000000     10.000000     18.000000  \n",
      "         id  log_price property_type        room_type  \\\n",
      "0   6901257   5.010635     Apartment  Entire home/apt   \n",
      "1   6304928   5.129899     Apartment  Entire home/apt   \n",
      "2   7919400   4.976734     Apartment  Entire home/apt   \n",
      "3  13418779   6.620073         House  Entire home/apt   \n",
      "4   3808709   4.744932     Apartment  Entire home/apt   \n",
      "\n",
      "                                           amenities  accommodates  bathrooms  \\\n",
      "0  {\"Wireless Internet\",\"Air conditioning\",Kitche...             3        1.0   \n",
      "1  {\"Wireless Internet\",\"Air conditioning\",Kitche...             7        1.0   \n",
      "2  {TV,\"Cable TV\",\"Wireless Internet\",\"Air condit...             5        1.0   \n",
      "3  {TV,\"Cable TV\",Internet,\"Wireless Internet\",Ki...             4        1.0   \n",
      "4  {TV,Internet,\"Wireless Internet\",\"Air conditio...             2        1.0   \n",
      "\n",
      "   bed_type cancellation_policy  cleaning_fee  ...   latitude   longitude  \\\n",
      "0  Real Bed              strict          True  ...  40.696524  -73.991617   \n",
      "1  Real Bed              strict          True  ...  40.766115  -73.989040   \n",
      "2  Real Bed            moderate          True  ...  40.808110  -73.943756   \n",
      "3  Real Bed            flexible          True  ...  37.772004 -122.431619   \n",
      "4  Real Bed            moderate          True  ...  38.925627  -77.034596   \n",
      "\n",
      "                                       name     neighbourhood  \\\n",
      "0            Beautiful brownstone 1-bedroom  Brooklyn Heights   \n",
      "1  Superb 3BR Apt Located Near Times Square    Hell's Kitchen   \n",
      "2                          The Garden Oasis            Harlem   \n",
      "3        Beautiful Flat in the Heart of SF!      Lower Haight   \n",
      "4                Great studio in midtown DC  Columbia Heights   \n",
      "\n",
      "  number_of_reviews  review_scores_rating  \\\n",
      "0                 2                 100.0   \n",
      "1                 6                  93.0   \n",
      "2                10                  92.0   \n",
      "3                 0                   NaN   \n",
      "4                 4                  40.0   \n",
      "\n",
      "                                       thumbnail_url zipcode bedrooms  beds  \n",
      "0  https://a0.muscache.com/im/pictures/6d7cbbf7-c...   11201      1.0   1.0  \n",
      "1  https://a0.muscache.com/im/pictures/348a55fe-4...   10019      3.0   3.0  \n",
      "2  https://a0.muscache.com/im/pictures/6fae5362-9...   10027      1.0   3.0  \n",
      "3  https://a0.muscache.com/im/pictures/72208dad-9...   94117      2.0   2.0  \n",
      "4                                                NaN   20009      0.0   1.0  \n",
      "\n",
      "[5 rows x 29 columns]\n"
     ]
    }
   ],
   "source": [
    "import pandas as pd\n",
    "df = pd.read_excel('Airbnb_data.xlsx')\n",
    "print(df.info())\n",
    "print(df.describe())\n",
    "print(df.head())\n"
   ]
  },
  {
   "cell_type": "code",
   "execution_count": 12,
   "id": "c89d968f-c348-4cdf-86ae-5dcecb1ba258",
   "metadata": {},
   "outputs": [
    {
     "name": "stderr",
     "output_type": "stream",
     "text": [
      "C:\\Users\\anish\\AppData\\Local\\Temp\\ipykernel_15968\\3903068083.py:11: FutureWarning: A value is trying to be set on a copy of a DataFrame or Series through chained assignment using an inplace method.\n",
      "The behavior will change in pandas 3.0. This inplace method will never work because the intermediate object on which we are setting values always behaves as a copy.\n",
      "\n",
      "For example, when doing 'df[col].method(value, inplace=True)', try using 'df.method({col: value}, inplace=True)' or df[col] = df[col].method(value) instead, to perform the operation inplace on the original object.\n",
      "\n",
      "\n",
      "  df[col].fillna(df[col].mode()[0], inplace=True)\n"
     ]
    },
    {
     "name": "stdout",
     "output_type": "stream",
     "text": [
      "id                        0\n",
      "log_price                 0\n",
      "property_type             0\n",
      "room_type                 0\n",
      "amenities                 0\n",
      "accommodates              0\n",
      "bathrooms                 0\n",
      "bed_type                  0\n",
      "cancellation_policy       0\n",
      "cleaning_fee              0\n",
      "city                      0\n",
      "description               0\n",
      "first_review              0\n",
      "host_has_profile_pic      0\n",
      "host_identity_verified    0\n",
      "host_response_rate        0\n",
      "host_since                0\n",
      "instant_bookable          0\n",
      "last_review               0\n",
      "latitude                  0\n",
      "longitude                 0\n",
      "name                      0\n",
      "neighbourhood             0\n",
      "number_of_reviews         0\n",
      "review_scores_rating      0\n",
      "thumbnail_url             0\n",
      "zipcode                   0\n",
      "bedrooms                  0\n",
      "beds                      0\n",
      "dtype: int64\n",
      "<class 'pandas.core.frame.DataFrame'>\n",
      "RangeIndex: 74111 entries, 0 to 74110\n",
      "Data columns (total 29 columns):\n",
      " #   Column                  Non-Null Count  Dtype  \n",
      "---  ------                  --------------  -----  \n",
      " 0   id                      74111 non-null  int64  \n",
      " 1   log_price               74111 non-null  float64\n",
      " 2   property_type           74111 non-null  object \n",
      " 3   room_type               74111 non-null  object \n",
      " 4   amenities               74111 non-null  object \n",
      " 5   accommodates            74111 non-null  int64  \n",
      " 6   bathrooms               74111 non-null  float64\n",
      " 7   bed_type                74111 non-null  object \n",
      " 8   cancellation_policy     74111 non-null  object \n",
      " 9   cleaning_fee            74111 non-null  bool   \n",
      " 10  city                    74111 non-null  object \n",
      " 11  description             74111 non-null  object \n",
      " 12  first_review            74111 non-null  object \n",
      " 13  host_has_profile_pic    74111 non-null  object \n",
      " 14  host_identity_verified  74111 non-null  object \n",
      " 15  host_response_rate      74111 non-null  float64\n",
      " 16  host_since              74111 non-null  object \n",
      " 17  instant_bookable        74111 non-null  object \n",
      " 18  last_review             74111 non-null  object \n",
      " 19  latitude                74111 non-null  float64\n",
      " 20  longitude               74111 non-null  float64\n",
      " 21  name                    74111 non-null  object \n",
      " 22  neighbourhood           74111 non-null  object \n",
      " 23  number_of_reviews       74111 non-null  int64  \n",
      " 24  review_scores_rating    74111 non-null  float64\n",
      " 25  thumbnail_url           74111 non-null  object \n",
      " 26  zipcode                 74111 non-null  object \n",
      " 27  bedrooms                74111 non-null  float64\n",
      " 28  beds                    74111 non-null  float64\n",
      "dtypes: bool(1), float64(8), int64(3), object(17)\n",
      "memory usage: 15.9+ MB\n"
     ]
    }
   ],
   "source": [
    "# Data Exploration and Preprocessing \n",
    "# handling missing values\n",
    "numerical_cols = df.select_dtypes(include=['int64', 'float64']).columns\n",
    "categorical_cols = df.select_dtypes(include=['object']).columns\n",
    "\n",
    "# Impute missing values for numerical columns with the median\n",
    "df[numerical_cols] = df[numerical_cols].fillna(df[numerical_cols].median())\n",
    "\n",
    "# Impute missing values for categorical columns with the mode\n",
    "for col in categorical_cols:\n",
    "    df[col].fillna(df[col].mode()[0], inplace=True)\n",
    "\n",
    "# Check if any missing values remain\n",
    "print(df.isnull().sum())\n",
    "df.info()"
   ]
  },
  {
   "cell_type": "code",
   "execution_count": 14,
   "id": "3d1108bd-9eb4-496a-be15-13fff69897e4",
   "metadata": {},
   "outputs": [
    {
     "data": {
      "text/plain": [
       "<Axes: >"
      ]
     },
     "execution_count": 14,
     "metadata": {},
     "output_type": "execute_result"
    },
    {
     "data": {
      "image/png": "[encoded data removed]",
      "text/plain": [
       "<Figure size 640x480 with 1 Axes>"
      ]
     },
     "metadata": {},
     "output_type": "display_data"
    }
   ],
   "source": [
    "#Outlier Detection\n",
    "import seaborn as sns\n",
    "sns.boxplot(data=df[['log_price', 'number_of_reviews']])\n"
   ]
  },
  {
   "cell_type": "code",
   "execution_count": 41,
   "id": "a105ced3-e7d6-4051-93c7-4556db8c46b0",
   "metadata": {},
   "outputs": [
    {
     "name": "stdout",
     "output_type": "stream",
     "text": [
      "   num_amenities  host_response_rate  location_popularity\n",
      "0              9                 1.0                  111\n",
      "1             15                 1.0                 1299\n",
      "2             19                 1.0                 1374\n",
      "3             15                 1.0                  124\n",
      "4             12                 1.0                  298\n"
     ]
    }
   ],
   "source": [
    "#Feature Engineering\n",
    "# Step 1: Handle non-string values in 'amenities' column and count amenities\n",
    "def count_amenities(amenities):\n",
    "    # If 'amenities' is NaN or None, return 0\n",
    "    if pd.isna(amenities) or amenities is None:\n",
    "        return 0\n",
    "    # If 'amenities' is a string, proceed to split by commas and count the number of amenities\n",
    "    if isinstance(amenities, str):\n",
    "        return len(amenities.split(','))\n",
    "    # If 'amenities' is a list, return the length of the list\n",
    "    elif isinstance(amenities, list):\n",
    "        return len(amenities)\n",
    "    # For other data types (like floats, integers), return 0\n",
    "    return 0\n",
    "\n",
    "# Apply the function to the 'amenities' column to count amenities\n",
    "df['num_amenities'] = df['amenities'].apply(count_amenities)\n",
    "\n",
    "# Step 2: Location-Based Popularity\n",
    "# Let's calculate the popularity of each location based on the number of listings in each neighbourhood or city.\n",
    "# Assuming the 'neighbourhood' column exists in the dataset.\n",
    "location_popularity = df['neighbourhood'].value_counts()\n",
    "df['location_popularity'] = df['neighbourhood'].map(location_popularity)\n",
    "\n",
    "# Step 3: Handle any missing values for the new features\n",
    "df['num_amenities'] = df['num_amenities'].fillna(0)  # Fill missing amenities count with 0\n",
    "df['host_response_rate'] = df['host_response_rate'].fillna(0)  # If no response rate, assume 0\n",
    "df['location_popularity'] = df['location_popularity'].fillna(0)  # If no data for location, assume 0\n",
    "\n",
    "# Step 4: Final dataset check\n",
    "print(df[['num_amenities', 'host_response_rate', 'location_popularity']].head())\n"
   ]
  },
  {
   "cell_type": "code",
   "execution_count": 30,
   "id": "83f5041d-237e-4269-9887-a0331b596a8b",
   "metadata": {},
   "outputs": [
    {
     "name": "stdout",
     "output_type": "stream",
     "text": [
      "[LightGBM] [Info] Auto-choosing row-wise multi-threading, the overhead of testing was 0.386229 seconds.\n",
      "You can set `force_row_wise=true` to remove the overhead.\n",
      "And if memory is not enough, you can set `force_col_wise=true`.\n",
      "[LightGBM] [Info] Total Bins 7544\n",
      "[LightGBM] [Info] Number of data points in the train set: 59288, number of used features: 3772\n",
      "[LightGBM] [Info] Start training from score 4.780538\n",
      "RMSE: 0.4081013926997078\n",
      "MAE: 0.29925671907040713\n",
      "R²: 0.6758062087441525\n"
     ]
    },
    {
     "name": "stderr",
     "output_type": "stream",
     "text": [
      "C:\\Users\\anish\\anaconda3\\Lib\\site-packages\\sklearn\\metrics\\_regression.py:483: FutureWarning: 'squared' is deprecated in version 1.4 and will be removed in 1.6. To calculate the root mean squared error, use the function'root_mean_squared_error'.\n",
      "  warnings.warn(\n"
     ]
    }
   ],
   "source": [
    "# Model Development\n",
    "import pandas as pd\n",
    "from sklearn.model_selection import train_test_split\n",
    "from sklearn.preprocessing import OneHotEncoder\n",
    "import lightgbm as lgb\n",
    "from sklearn.metrics import mean_squared_error, mean_absolute_error, r2_score\n",
    "\n",
    "# Step 1: Convert datetime columns to numerical features\n",
    "# Assuming the datetime column is named 'date_column'\n",
    "if 'date_column' in df.columns:\n",
    "    df['date_column'] = pd.to_datetime(df['date_column'])\n",
    "    df['year'] = df['date_column'].dt.year\n",
    "    df['month'] = df['date_column'].dt.month\n",
    "    df['day'] = df['date_column'].dt.day\n",
    "    df = df.drop('date_column', axis=1)\n",
    "\n",
    "# Step 2: Ensure all categorical columns are in string format\n",
    "# For example, if there are any categorical columns with mixed types, convert them to string\n",
    "categorical_cols = df.select_dtypes(include=['object']).columns\n",
    "for col in categorical_cols:\n",
    "    df[col] = df[col].astype(str)\n",
    "\n",
    "# Step 3: Define features and target\n",
    "X = df.drop('log_price', axis=1)  # Assuming 'price' is the target variable\n",
    "y = df['log_price']\n",
    "\n",
    "# Step 4: One-Hot Encoding with sparse output\n",
    "encoder = OneHotEncoder(sparse_output=True, drop='first')\n",
    "X_encoded = encoder.fit_transform(X)\n",
    "\n",
    "# Step 5: Split the data\n",
    "X_train, X_test, y_train, y_test = train_test_split(X_encoded, y, test_size=0.2, random_state=42)\n",
    "\n",
    "# Step 6: Train LightGBM Model\n",
    "model = lgb.LGBMRegressor()\n",
    "model.fit(X_train, y_train)\n",
    "\n",
    "# Step 7: Make predictions\n",
    "y_pred = model.predict(X_test)\n",
    "\n",
    "# Step 8: Evaluate the model\n",
    "print('RMSE:', mean_squared_error(y_test, y_pred, squared=False))\n",
    "print('MAE:', mean_absolute_error(y_test, y_pred))\n",
    "print('R²:', r2_score(y_test, y_pred))\n"
   ]
  },
  {
   "cell_type": "code",
   "execution_count": 31,
   "id": "d4c803b9-3aa0-49de-b7ab-58994eea519c",
   "metadata": {},
   "outputs": [
    {
     "data": {
      "image/png": "[encoded data removed]",
      "text/plain": [
       "<Figure size 640x480 with 1 Axes>"
      ]
     },
     "metadata": {},
     "output_type": "display_data"
    }
   ],
   "source": [
    "import matplotlib.pyplot as plt\n",
    "plt.scatter(y_test, y_pred)\n",
    "plt.xlabel('Actual Prices')\n",
    "plt.ylabel('Predicted Prices')\n",
    "plt.title('Actual vs Predicted Prices')\n",
    "plt.show()\n"
   ]
  },
  {
   "cell_type": "code",
   "execution_count": null,
   "id": "a82a7102-18d8-4df4-9679-2df0f8f17092",
   "metadata": {},
   "outputs": [],
   "source": []
  }
 ],
 "metadata": {
  "kernelspec": {
   "display_name": "Python 3 (ipykernel)",
   "language": "python",
   "name": "python3"
  },
  "language_info": {
   "codemirror_mode": {
    "name": "ipython",
    "version": 3
   },
   "file_extension": ".py",
   "mimetype": "text/x-python",
   "name": "python",
   "nbconvert_exporter": "python",
   "pygments_lexer": "ipython3",
   "version": "3.12.4"
  }
 },
 "nbformat": 4,
 "nbformat_minor": 5
}
